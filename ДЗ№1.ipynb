{
 "cells": [
  {
   "cell_type": "code",
   "execution_count": 1,
   "id": "738da90f",
   "metadata": {},
   "outputs": [
    {
     "name": "stdout",
     "output_type": "stream",
     "text": [
      "56 23 125 54 65 53 44 34 23 5 56 чётное\n",
      "23 нечётное\n",
      "125 нечётное\n",
      "54 чётное\n",
      "65 нечётное\n",
      "53 нечётное\n",
      "44 чётное\n",
      "34 чётное\n",
      "23 нечётное\n",
      "5 нечётное\n"
     ]
    }
   ],
   "source": [
    "m=[5,23,34,44,53,65,54,125,23,56]\n",
    "new_m=[]\n",
    "for i in range(len(m)):\n",
    "    new_m.append(m[len(m)-i-1])\n",
    "    print(new_m[i],end=' ')\n",
    "x=0\n",
    "while x<len(new_m):\n",
    "    if new_m[x] % 2 == 0:\n",
    "        print(new_m[x],'чётное')\n",
    "    else:\n",
    "        print(new_m[x],'нечётное')\n",
    "  \n",
    "    x+=1\n",
    "    \n",
    "    \n",
    "\n",
    "    \n",
    "     \n",
    "\n"
   ]
  },
  {
   "cell_type": "code",
   "execution_count": null,
   "id": "42604990",
   "metadata": {},
   "outputs": [],
   "source": [
    "i=3"
   ]
  },
  {
   "cell_type": "code",
   "execution_count": 52,
   "id": "50851ba8",
   "metadata": {},
   "outputs": [],
   "source": [
    "i=i+5"
   ]
  },
  {
   "cell_type": "code",
   "execution_count": null,
   "id": "b4eb47bd",
   "metadata": {},
   "outputs": [],
   "source": []
  }
 ],
 "metadata": {
  "kernelspec": {
   "display_name": "Python 3 (ipykernel)",
   "language": "python",
   "name": "python3"
  },
  "language_info": {
   "codemirror_mode": {
    "name": "ipython",
    "version": 3
   },
   "file_extension": ".py",
   "mimetype": "text/x-python",
   "name": "python",
   "nbconvert_exporter": "python",
   "pygments_lexer": "ipython3",
   "version": "3.11.5"
  }
 },
 "nbformat": 4,
 "nbformat_minor": 5
}
